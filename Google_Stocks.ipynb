{
 "cells": [
  {
   "cell_type": "markdown",
   "id": "6d005700",
   "metadata": {},
   "source": [
    "## Google stock price: Creating a forecast"
   ]
  },
  {
   "cell_type": "markdown",
   "id": "eded04c4",
   "metadata": {},
   "source": [
    "Using a combinantion of parametic and non parametric methods we will use data for the past 19 years on google stock prices to predict the future value of Googles stock price. Then we will create a interactive Dashboard using Streamlit/Dash/Voila/Panel for comparsion across different outputs of dashboard. "
   ]
  },
  {
   "cell_type": "code",
   "execution_count": 2,
   "id": "76472446",
   "metadata": {},
   "outputs": [],
   "source": [
    "## Libaries \n",
    "\n",
    "## Data handling \n",
    "import pandas as pd \n",
    "\n",
    "# Math operations \n",
    "import numpy as np \n",
    "\n",
    "# For visualization \n",
    "import matplotlib.pyplot as py\n",
    "import seaborn as sns \n",
    "\n",
    "# Machine learning: Time series analysis -> parametric \n",
    "\n",
    "# Machine learning: Time series analysis -> non-parametric\n",
    "\n"
   ]
  },
  {
   "cell_type": "code",
   "execution_count": 3,
   "id": "035c048b",
   "metadata": {},
   "outputs": [],
   "source": [
    "## Load Data \n",
    "directory = 'C:/Users/kurtk/Documents/Kaggle projects/Google stocks data 2004 to 2023/archive_data'\n",
    "file = '/google_stock_price.csv'\n",
    "data = directory + file\n",
    "df = pd.read_csv(data)"
   ]
  },
  {
   "cell_type": "code",
   "execution_count": 4,
   "id": "6ad03183",
   "metadata": {},
   "outputs": [
    {
     "data": {
      "text/plain": [
       "(4842, 7)"
      ]
     },
     "execution_count": 4,
     "metadata": {},
     "output_type": "execute_result"
    }
   ],
   "source": [
    "## Shape of the data\n",
    "df.shape"
   ]
  },
  {
   "cell_type": "code",
   "execution_count": 5,
   "id": "00a4fc78",
   "metadata": {},
   "outputs": [
    {
     "data": {
      "text/html": [
       "<div>\n",
       "<style scoped>\n",
       "    .dataframe tbody tr th:only-of-type {\n",
       "        vertical-align: middle;\n",
       "    }\n",
       "\n",
       "    .dataframe tbody tr th {\n",
       "        vertical-align: top;\n",
       "    }\n",
       "\n",
       "    .dataframe thead th {\n",
       "        text-align: right;\n",
       "    }\n",
       "</style>\n",
       "<table border=\"1\" class=\"dataframe\">\n",
       "  <thead>\n",
       "    <tr style=\"text-align: right;\">\n",
       "      <th></th>\n",
       "      <th>Date</th>\n",
       "      <th>Open</th>\n",
       "      <th>High</th>\n",
       "      <th>Low</th>\n",
       "      <th>Close</th>\n",
       "      <th>Adj Close</th>\n",
       "      <th>Volume</th>\n",
       "    </tr>\n",
       "  </thead>\n",
       "  <tbody>\n",
       "    <tr>\n",
       "      <th>0</th>\n",
       "      <td>2004-08-19</td>\n",
       "      <td>2.490664</td>\n",
       "      <td>2.591785</td>\n",
       "      <td>2.390042</td>\n",
       "      <td>2.499133</td>\n",
       "      <td>2.499133</td>\n",
       "      <td>897427216</td>\n",
       "    </tr>\n",
       "    <tr>\n",
       "      <th>1</th>\n",
       "      <td>2004-08-20</td>\n",
       "      <td>2.515820</td>\n",
       "      <td>2.716817</td>\n",
       "      <td>2.503118</td>\n",
       "      <td>2.697639</td>\n",
       "      <td>2.697639</td>\n",
       "      <td>458857488</td>\n",
       "    </tr>\n",
       "    <tr>\n",
       "      <th>2</th>\n",
       "      <td>2004-08-23</td>\n",
       "      <td>2.758411</td>\n",
       "      <td>2.826406</td>\n",
       "      <td>2.716070</td>\n",
       "      <td>2.724787</td>\n",
       "      <td>2.724787</td>\n",
       "      <td>366857939</td>\n",
       "    </tr>\n",
       "    <tr>\n",
       "      <th>3</th>\n",
       "      <td>2004-08-24</td>\n",
       "      <td>2.770615</td>\n",
       "      <td>2.779581</td>\n",
       "      <td>2.579581</td>\n",
       "      <td>2.611960</td>\n",
       "      <td>2.611960</td>\n",
       "      <td>306396159</td>\n",
       "    </tr>\n",
       "    <tr>\n",
       "      <th>4</th>\n",
       "      <td>2004-08-25</td>\n",
       "      <td>2.614201</td>\n",
       "      <td>2.689918</td>\n",
       "      <td>2.587302</td>\n",
       "      <td>2.640104</td>\n",
       "      <td>2.640104</td>\n",
       "      <td>184645512</td>\n",
       "    </tr>\n",
       "  </tbody>\n",
       "</table>\n",
       "</div>"
      ],
      "text/plain": [
       "         Date      Open      High       Low     Close  Adj Close     Volume\n",
       "0  2004-08-19  2.490664  2.591785  2.390042  2.499133   2.499133  897427216\n",
       "1  2004-08-20  2.515820  2.716817  2.503118  2.697639   2.697639  458857488\n",
       "2  2004-08-23  2.758411  2.826406  2.716070  2.724787   2.724787  366857939\n",
       "3  2004-08-24  2.770615  2.779581  2.579581  2.611960   2.611960  306396159\n",
       "4  2004-08-25  2.614201  2.689918  2.587302  2.640104   2.640104  184645512"
      ]
     },
     "execution_count": 5,
     "metadata": {},
     "output_type": "execute_result"
    }
   ],
   "source": [
    "# view head of the data \n",
    "# View first five rows\n",
    "df.head(5)"
   ]
  },
  {
   "cell_type": "code",
   "execution_count": 6,
   "id": "42763a45",
   "metadata": {},
   "outputs": [
    {
     "name": "stdout",
     "output_type": "stream",
     "text": [
      "<class 'pandas.core.frame.DataFrame'>\n",
      "RangeIndex: 4842 entries, 0 to 4841\n",
      "Data columns (total 7 columns):\n",
      " #   Column     Non-Null Count  Dtype  \n",
      "---  ------     --------------  -----  \n",
      " 0   Date       4842 non-null   object \n",
      " 1   Open       4842 non-null   float64\n",
      " 2   High       4842 non-null   float64\n",
      " 3   Low        4842 non-null   float64\n",
      " 4   Close      4842 non-null   float64\n",
      " 5   Adj Close  4842 non-null   float64\n",
      " 6   Volume     4842 non-null   int64  \n",
      "dtypes: float64(5), int64(1), object(1)\n",
      "memory usage: 264.9+ KB\n"
     ]
    }
   ],
   "source": [
    "# Check column type\n",
    "df.info()"
   ]
  },
  {
   "cell_type": "code",
   "execution_count": 7,
   "id": "fc5228cb",
   "metadata": {},
   "outputs": [],
   "source": [
    "# First the data needs to chnage to the correct format to be used in a time series analysis \n",
    "df['Date'] = pd.to_datetime(df['Date'], yearfirst=True, format=\"%Y/%m/%d\")"
   ]
  },
  {
   "cell_type": "code",
   "execution_count": 8,
   "id": "cb6f851f",
   "metadata": {},
   "outputs": [
    {
     "data": {
      "text/plain": [
       "Date         0\n",
       "Open         0\n",
       "High         0\n",
       "Low          0\n",
       "Close        0\n",
       "Adj Close    0\n",
       "Volume       0\n",
       "dtype: int64"
      ]
     },
     "execution_count": 8,
     "metadata": {},
     "output_type": "execute_result"
    }
   ],
   "source": [
    "# Check for Nan in the data \n",
    "df.isna().sum()"
   ]
  },
  {
   "cell_type": "markdown",
   "id": "397d633a",
   "metadata": {},
   "source": [
    "#### Preliminary analysis of each feature in the data "
   ]
  },
  {
   "cell_type": "markdown",
   "id": "059166e4",
   "metadata": {},
   "source": [
    "#### Description of the data set :\n",
    "\n",
    "The dataset present represents Google's stock price from 19th August 2004 when Google went public to 10th of November 2023 with stock price information of 4842 trading sessions. The dataset given has 7 different elements(represented in each column) which provides information about the trading activity and performance of a stock over a specific period. Here's a short overview of all the elements:\n",
    "\n",
    " - Date: This column represents the calender date when the data about the stock is recorded.\n",
    "       \n",
    " - Open: This column represents the first recorded price of the stock for a trading session. \n",
    "       \n",
    "- High: The high price represents the highest traded price of the stock during a given trading session. It reflects the peak value that the stock reached during the day.\n",
    "\n",
    "- Low: The low price is the lowest traded price of the stock during a specific trading session. It indicates the minimum value that the stock reached during the day. - Close: The closing price is the last traded price of the stock at the end of a trading session. It reflects the final value at which the stock was traded before the market closes.\n",
    "        \n",
    "- Adj Close(Adjusted Close): The adjusted closing price accounts for corporate actions, such as dividends, stock splits, and new stock offerings, that may affect the stock's price but are not directly related to its performance. The adjusted close is often used to assess the stock's performance over time.\n",
    " \n",
    "- Volume: Volume represents the total number of shares traded during a specific time period. It gives an indication of the level of market activity and liquidity for that stock. High volume often suggests increased investor interest, while low volume may indicate less active trading.\n",
    "\n",
    "A financial dataset with columns such as Date, Open, High, Low, Close, Adj Close, and Volume information is crucial for technical analysis, trend identification, and understanding the historical performance of a stock."
   ]
  },
  {
   "cell_type": "code",
   "execution_count": 9,
   "id": "01d3b00c",
   "metadata": {},
   "outputs": [
    {
     "data": {
      "text/html": [
       "<div>\n",
       "<style scoped>\n",
       "    .dataframe tbody tr th:only-of-type {\n",
       "        vertical-align: middle;\n",
       "    }\n",
       "\n",
       "    .dataframe tbody tr th {\n",
       "        vertical-align: top;\n",
       "    }\n",
       "\n",
       "    .dataframe thead th {\n",
       "        text-align: right;\n",
       "    }\n",
       "</style>\n",
       "<table border=\"1\" class=\"dataframe\">\n",
       "  <thead>\n",
       "    <tr style=\"text-align: right;\">\n",
       "      <th></th>\n",
       "      <th>Open</th>\n",
       "      <th>High</th>\n",
       "      <th>Close</th>\n",
       "      <th>Low</th>\n",
       "      <th>Adj Close</th>\n",
       "    </tr>\n",
       "  </thead>\n",
       "  <tbody>\n",
       "    <tr>\n",
       "      <th>count</th>\n",
       "      <td>4842.000000</td>\n",
       "      <td>4842.000000</td>\n",
       "      <td>4842.000000</td>\n",
       "      <td>4842.000000</td>\n",
       "      <td>4842.000000</td>\n",
       "    </tr>\n",
       "    <tr>\n",
       "      <th>mean</th>\n",
       "      <td>41.164402</td>\n",
       "      <td>41.601906</td>\n",
       "      <td>41.181457</td>\n",
       "      <td>40.745188</td>\n",
       "      <td>41.181457</td>\n",
       "    </tr>\n",
       "    <tr>\n",
       "      <th>std</th>\n",
       "      <td>38.267895</td>\n",
       "      <td>38.708231</td>\n",
       "      <td>38.295204</td>\n",
       "      <td>37.871644</td>\n",
       "      <td>38.295204</td>\n",
       "    </tr>\n",
       "    <tr>\n",
       "      <th>min</th>\n",
       "      <td>2.470490</td>\n",
       "      <td>2.534002</td>\n",
       "      <td>2.490913</td>\n",
       "      <td>2.390042</td>\n",
       "      <td>2.490913</td>\n",
       "    </tr>\n",
       "    <tr>\n",
       "      <th>25%</th>\n",
       "      <td>12.819761</td>\n",
       "      <td>12.949089</td>\n",
       "      <td>12.828043</td>\n",
       "      <td>12.702388</td>\n",
       "      <td>12.828043</td>\n",
       "    </tr>\n",
       "    <tr>\n",
       "      <th>50%</th>\n",
       "      <td>26.470161</td>\n",
       "      <td>26.668148</td>\n",
       "      <td>26.470153</td>\n",
       "      <td>26.259000</td>\n",
       "      <td>26.470153</td>\n",
       "    </tr>\n",
       "    <tr>\n",
       "      <th>75%</th>\n",
       "      <td>57.197751</td>\n",
       "      <td>57.729501</td>\n",
       "      <td>57.315001</td>\n",
       "      <td>56.633139</td>\n",
       "      <td>57.315001</td>\n",
       "    </tr>\n",
       "    <tr>\n",
       "      <th>max</th>\n",
       "      <td>151.863495</td>\n",
       "      <td>152.100006</td>\n",
       "      <td>150.709000</td>\n",
       "      <td>149.887497</td>\n",
       "      <td>150.709000</td>\n",
       "    </tr>\n",
       "  </tbody>\n",
       "</table>\n",
       "</div>"
      ],
      "text/plain": [
       "              Open         High        Close          Low    Adj Close\n",
       "count  4842.000000  4842.000000  4842.000000  4842.000000  4842.000000\n",
       "mean     41.164402    41.601906    41.181457    40.745188    41.181457\n",
       "std      38.267895    38.708231    38.295204    37.871644    38.295204\n",
       "min       2.470490     2.534002     2.490913     2.390042     2.490913\n",
       "25%      12.819761    12.949089    12.828043    12.702388    12.828043\n",
       "50%      26.470161    26.668148    26.470153    26.259000    26.470153\n",
       "75%      57.197751    57.729501    57.315001    56.633139    57.315001\n",
       "max     151.863495   152.100006   150.709000   149.887497   150.709000"
      ]
     },
     "execution_count": 9,
     "metadata": {},
     "output_type": "execute_result"
    }
   ],
   "source": [
    "### Descriptive stats for the features which are float64\n",
    "df[['Open','High','Close','Low','Adj Close']].describe()"
   ]
  },
  {
   "cell_type": "markdown",
   "id": "1897d0fc",
   "metadata": {},
   "source": [
    "### Disturbution"
   ]
  },
  {
   "cell_type": "markdown",
   "id": "09fbaa73",
   "metadata": {},
   "source": [
    "Looking at the disturbution of vairables will give us better idea of whihc function will be a best fit for our model.\n",
    "\n",
    "    - According to \"Kanellopoulou & Panas\" stable disturbutions make for better \n",
    "    predictions of stock values, because of the ability to capture the skeweness and fattnes of tails. \n",
    "    - Stable disturbutions can be used to measure log-memory stock returns which can \n",
    "    help with the accuracy of stock value predictions\n",
    "    - CAC index in France is well apporximated by stable disturbutions with a \n",
    "    characteristic comopnent of less than 2. This means the disturtions have infinite infinite \n",
    "    variance which is consistent with the observed leptokurtosis. \n",
    "        - Leptokurtosis is evident when the Kurtosis score is greater than 3. "
   ]
  },
  {
   "cell_type": "code",
   "execution_count": 10,
   "id": "f5c2a788",
   "metadata": {},
   "outputs": [
    {
     "data": {
      "image/png": "[encoded data removed]",
      "text/plain": [
       "<Figure size 432x288 with 2 Axes>"
      ]
     },
     "metadata": {
      "needs_background": "dark"
     },
     "output_type": "display_data"
    }
   ],
   "source": [
    "## To understand the distubution of opening and closing price of the stock. \n",
    "\n",
    "# Series of values to plot\n",
    "x = df['Open']\n",
    "y = df['Close']\n",
    "\n",
    "# Plotting surfce \n",
    "fig, ax = py.subplots(2, layout='constrained') # Layout = constrainted to avoid overlapping of headers and graphs\n",
    "\n",
    "#Plot\n",
    "# Bins equla to the number of years of the data\n",
    "ax[0].hist(x, bins=10, linewidth=0.5, edgecolor=\"white\")\n",
    "ax[1].hist(y, bins=10, linewidth=0.5, edgecolor=\"white\")\n",
    "\n",
    "\n",
    "# Title \n",
    "ax[0].set_title('Disturbution of opening values', color='white')\n",
    "ax[1].set_title('Disturbution of closing values', color='white')\n",
    "\n",
    "# Opening: Edit label of X-axis and Y-axis\n",
    "ax[0].set_xlabel('Opening prices')\n",
    "ax[0].set_ylabel('Count')\n",
    "\n",
    "# Closing: Edit label of X-axis and Y-axis\n",
    "ax[1].set_xlabel('Closing prices')\n",
    "ax[1].set_ylabel('Count')\n",
    "\n",
    "#Opening: Edit color of x-axis and Y-axis\n",
    "ax[0].xaxis.label.set_color('white')\n",
    "ax[0].yaxis.label.set_color('white')\n",
    "\n",
    "#Closing: Edit color of x-axis and Y-axis\n",
    "ax[1].xaxis.label.set_color('white')\n",
    "ax[1].yaxis.label.set_color('white')\n",
    "\n",
    "# Opening: Set color of ticks \n",
    "ax[0].tick_params(axis='x', colors='white')\n",
    "ax[0].tick_params(axis='y', colors='white')\n",
    "\n",
    "# Coloring: Set color of ticks \n",
    "ax[1].tick_params(axis='x', colors='white')\n",
    "ax[1].tick_params(axis='y', colors='white')\n",
    "\n",
    "# Show plot\n",
    "py.show()"
   ]
  },
  {
   "cell_type": "code",
   "execution_count": 11,
   "id": "3b823cf9",
   "metadata": {},
   "outputs": [
    {
     "data": {
      "image/png": "[encoded data removed]",
      "text/plain": [
       "<Figure size 432x288 with 1 Axes>"
      ]
     },
     "metadata": {
      "needs_background": "dark"
     },
     "output_type": "display_data"
    }
   ],
   "source": [
    "# Scatter plot of the values for opening and closing\n",
    "values = df[['Open','Close']]\n",
    "date = df['Date']\n",
    "\n",
    "# Plotting surfce\n",
    "#fig, ax = py.subplots(111)\n",
    "\n",
    "fig = py.figure()\n",
    "ax = fig.add_subplot(111)\n",
    "\n",
    "\n",
    "# Scatter plot\n",
    "#py.scatter(date, values)\n",
    "\n",
    "ax.scatter(date, values['Open'], s=10, c='b', marker=\"s\", label='Open')\n",
    "ax.scatter(date, values['Close'], s=10, c='r', marker=\"o\", label='Close')\n",
    "\n",
    "# Produce a legend\n",
    "py.legend(loc='upper left')\n",
    "\n",
    "# Use a grid\n",
    "ax.grid(True)\n",
    "\n",
    "# Title of graph\n",
    "ax.set_title('Scatter plot for values of Opening and Cloisng over', color='white')\n",
    "\n",
    "# Closing: Edit label of X-axis and Y-axis\n",
    "ax.set_xlabel('Years')\n",
    "ax.set_ylabel('Stock price at Open vs Close')\n",
    "\n",
    "#Opening: Edit color of x-axis and Y-axis\n",
    "ax.xaxis.label.set_color('white')\n",
    "ax.yaxis.label.set_color('white')\n",
    "\n",
    "# Opening: Set color of ticks \n",
    "ax.tick_params(axis='x', colors='white')\n",
    "ax.tick_params(axis='y', colors='white')\n",
    "\n",
    "#Show plot\n",
    "py.show()\n"
   ]
  },
  {
   "cell_type": "markdown",
   "id": "dccec8d4",
   "metadata": {},
   "source": [
    " What can the above graph tell us about googles stock price ? \n",
    "\n",
    "    - It is a stable company with low volatility, making it attract to risk averse investors \n",
    "    - Google has strong track record of profitability and earnings growth, this provides investors with confidence and this stabilizes the stock price. \n",
    "    - The company may have a large instututional investment base. Institutional investors such as mutual and pension funds ten tohold stocks for the long term. This smoothes out the stock price. \n",
    "    - Share may be traded in a thin market, this means that shares are not easy to acquire and this keeps the stock a stable level."
   ]
  },
  {
   "cell_type": "code",
   "execution_count": 12,
   "id": "a6183c09",
   "metadata": {},
   "outputs": [
    {
     "name": "stdout",
     "output_type": "stream",
     "text": [
      "Kurtosis score for Opening values: 0.5814853498909849\n",
      "Kurtosis score for Closing values: 0.5718250990873162\n"
     ]
    }
   ],
   "source": [
    "### Check Kurtosis of the disturbution for opening and closing values.\n",
    "\n",
    "print('Kurtosis score for Opening values:',df['Open'].kurtosis())\n",
    "print('Kurtosis score for Closing values:',df['Close'].kurtosis())"
   ]
  },
  {
   "cell_type": "code",
   "execution_count": 13,
   "id": "ec3b24dd",
   "metadata": {},
   "outputs": [
    {
     "name": "stdout",
     "output_type": "stream",
     "text": [
      "Skewness score for Opening values: 1.2866032617952448\n",
      "Skewness score for Closing values: 1.2847236013568806\n"
     ]
    }
   ],
   "source": [
    "### Check skewenness of the disturbution for Opening and closing values.\n",
    "\n",
    "print('Skewness score for Opening values:',df['Open'].skew())\n",
    "print('Skewness score for Closing values:',df['Close'].skew())"
   ]
  },
  {
   "cell_type": "code",
   "execution_count": 14,
   "id": "ce17ea2d",
   "metadata": {},
   "outputs": [
    {
     "data": {
      "image/png": "[encoded data removed]",
      "text/plain": [
       "<Figure size 432x288 with 2 Axes>"
      ]
     },
     "metadata": {
      "needs_background": "dark"
     },
     "output_type": "display_data"
    }
   ],
   "source": [
    "## To understand the distubution of high and low values of the stock price. \n",
    "\n",
    "# Series of values to plot\n",
    "x = df['High']\n",
    "y = df['Low']\n",
    "\n",
    "# Plotting surfce \n",
    "fig, ax = py.subplots(2, layout='constrained') # Layout = constrainted to avoid overlapping of headers and graphs\n",
    "\n",
    "#Plot\n",
    "# Bins equla to the number of years of the data\n",
    "ax[0].hist(x, bins=10, linewidth=0.5, edgecolor=\"white\")\n",
    "ax[1].hist(y, bins=10, linewidth=0.5, edgecolor=\"white\")\n",
    "\n",
    "\n",
    "# Title \n",
    "ax[0].set_title('Disturbution of high values', color='white')\n",
    "ax[1].set_title('Disturbution of low values', color='white')\n",
    "\n",
    "# Opening: Edit label of X-axis and Y-axis\n",
    "ax[0].set_xlabel('High values')\n",
    "ax[0].set_ylabel('Count')\n",
    "\n",
    "# Closing: Edit label of X-axis and Y-axis\n",
    "ax[1].set_xlabel('Low values')\n",
    "ax[1].set_ylabel('Count')\n",
    "\n",
    "#Opening: Edit color of x-axis and Y-axis\n",
    "ax[0].xaxis.label.set_color('white')\n",
    "ax[0].yaxis.label.set_color('white')\n",
    "\n",
    "#Closing: Edit color of x-axis and Y-axis\n",
    "ax[1].xaxis.label.set_color('white')\n",
    "ax[1].yaxis.label.set_color('white')\n",
    "\n",
    "# Opening: Set color of ticks \n",
    "ax[0].tick_params(axis='x', colors='white')\n",
    "ax[0].tick_params(axis='y', colors='white')\n",
    "\n",
    "# Coloring: Set color of ticks \n",
    "ax[1].tick_params(axis='x', colors='white')\n",
    "ax[1].tick_params(axis='y', colors='white')\n",
    "\n",
    "# Show plot\n",
    "py.show()"
   ]
  },
  {
   "cell_type": "code",
   "execution_count": 15,
   "id": "a47abd06",
   "metadata": {},
   "outputs": [
    {
     "data": {
      "image/png": "[encoded data removed]",
      "text/plain": [
       "<Figure size 432x288 with 1 Axes>"
      ]
     },
     "metadata": {
      "needs_background": "dark"
     },
     "output_type": "display_data"
    }
   ],
   "source": [
    "# Scatter plot of the values for High and Low\n",
    "values = df[['High','Low']]\n",
    "date = df['Date']\n",
    "\n",
    "# Plotting surfce\n",
    "#fig, ax = py.subplots(111)\n",
    "\n",
    "fig = py.figure()\n",
    "ax = fig.add_subplot(111)\n",
    "\n",
    "\n",
    "# Scatter plot\n",
    "#py.scatter(date, values)\n",
    "\n",
    "ax.scatter(date, values['High'], s=10, c='b', marker=\"s\", label='High')\n",
    "ax.scatter(date, values['Low'], s=10, c='r', marker=\"o\", label='Low')\n",
    "\n",
    "# Produce a legend\n",
    "py.legend(loc='upper left')\n",
    "\n",
    "# Use a grid\n",
    "ax.grid(True)\n",
    "\n",
    "# Set Title\n",
    "ax.set_title('Scatter plot for High and low values of stock over time', color='white')\n",
    "\n",
    "# Closing: Edit label of X-axis and Y-axis\n",
    "ax.set_xlabel('Years')\n",
    "ax.set_ylabel('Stock price at High vs Low')\n",
    "\n",
    "#Opening: Edit color of x-axis and Y-axis\n",
    "ax.xaxis.label.set_color('white')\n",
    "ax.yaxis.label.set_color('white')\n",
    "\n",
    "# Opening: Set color of ticks \n",
    "ax.tick_params(axis='x', colors='white')\n",
    "ax.tick_params(axis='y', colors='white')\n",
    "\n",
    "#Show plot\n",
    "py.show()"
   ]
  },
  {
   "cell_type": "code",
   "execution_count": 16,
   "id": "d4eb0150",
   "metadata": {},
   "outputs": [
    {
     "name": "stdout",
     "output_type": "stream",
     "text": [
      "Kurtosis score for High values: 0.5673919353923793\n",
      "Kurtosis score for Low values: 0.5808501505361936\n"
     ]
    }
   ],
   "source": [
    "### Kurtosis for High and low Values \n",
    "\n",
    "print('Kurtosis score for High values:',df['High'].kurtosis())\n",
    "print('Kurtosis score for Low values:',df['Low'].kurtosis())"
   ]
  },
  {
   "cell_type": "code",
   "execution_count": 17,
   "id": "a68a0390",
   "metadata": {},
   "outputs": [
    {
     "name": "stdout",
     "output_type": "stream",
     "text": [
      "Skewness score for High values: 1.285484466509016\n",
      "Skewness score for Low values: 1.2852737190205434\n"
     ]
    }
   ],
   "source": [
    "print('Skewness score for High values:',df['High'].skew())\n",
    "print('Skewness score for Low values:',df['Low'].skew())"
   ]
  },
  {
   "cell_type": "markdown",
   "id": "c7e035fb",
   "metadata": {},
   "source": [
    "### Distubution (Volume)"
   ]
  },
  {
   "cell_type": "code",
   "execution_count": 18,
   "id": "62dd2b7e",
   "metadata": {},
   "outputs": [
    {
     "data": {
      "text/html": [
       "<div>\n",
       "<style scoped>\n",
       "    .dataframe tbody tr th:only-of-type {\n",
       "        vertical-align: middle;\n",
       "    }\n",
       "\n",
       "    .dataframe tbody tr th {\n",
       "        vertical-align: top;\n",
       "    }\n",
       "\n",
       "    .dataframe thead th {\n",
       "        text-align: right;\n",
       "    }\n",
       "</style>\n",
       "<table border=\"1\" class=\"dataframe\">\n",
       "  <thead>\n",
       "    <tr style=\"text-align: right;\">\n",
       "      <th></th>\n",
       "      <th>Volume</th>\n",
       "    </tr>\n",
       "  </thead>\n",
       "  <tbody>\n",
       "    <tr>\n",
       "      <th>count</th>\n",
       "      <td>4.842000e+03</td>\n",
       "    </tr>\n",
       "    <tr>\n",
       "      <th>mean</th>\n",
       "      <td>1.192432e+08</td>\n",
       "    </tr>\n",
       "    <tr>\n",
       "      <th>std</th>\n",
       "      <td>1.513840e+08</td>\n",
       "    </tr>\n",
       "    <tr>\n",
       "      <th>min</th>\n",
       "      <td>1.584340e+05</td>\n",
       "    </tr>\n",
       "    <tr>\n",
       "      <th>25%</th>\n",
       "      <td>2.867350e+07</td>\n",
       "    </tr>\n",
       "    <tr>\n",
       "      <th>50%</th>\n",
       "      <td>6.202500e+07</td>\n",
       "    </tr>\n",
       "    <tr>\n",
       "      <th>75%</th>\n",
       "      <td>1.469819e+08</td>\n",
       "    </tr>\n",
       "    <tr>\n",
       "      <th>max</th>\n",
       "      <td>1.650833e+09</td>\n",
       "    </tr>\n",
       "  </tbody>\n",
       "</table>\n",
       "</div>"
      ],
      "text/plain": [
       "             Volume\n",
       "count  4.842000e+03\n",
       "mean   1.192432e+08\n",
       "std    1.513840e+08\n",
       "min    1.584340e+05\n",
       "25%    2.867350e+07\n",
       "50%    6.202500e+07\n",
       "75%    1.469819e+08\n",
       "max    1.650833e+09"
      ]
     },
     "execution_count": 18,
     "metadata": {},
     "output_type": "execute_result"
    }
   ],
   "source": [
    "### Descriptives for int64\n",
    "df[['Volume']].describe()"
   ]
  },
  {
   "cell_type": "code",
   "execution_count": 19,
   "id": "916c02bd",
   "metadata": {},
   "outputs": [
    {
     "data": {
      "image/png": "[encoded data removed]",
      "text/plain": [
       "<Figure size 432x288 with 1 Axes>"
      ]
     },
     "metadata": {
      "needs_background": "dark"
     },
     "output_type": "display_data"
    }
   ],
   "source": [
    "##Create series \n",
    "z = df['Volume']\n",
    "\n",
    "fig, ax = py.subplots()\n",
    "\n",
    "#Plot\n",
    "# Bins equla to the number of years of the data\n",
    "ax.hist(z, bins=10, linewidth=0.5, edgecolor=\"white\")\n",
    "\n",
    "# Title \n",
    "ax.set_title('Disturbution of volume stocks sold', color='white')\n",
    "#Volume: Edit label of X-axis and Y-axis\n",
    "ax.set_xlabel('Volume of stock')\n",
    "#Volume: Edit color of x-axis and Y-axis\n",
    "ax.xaxis.label.set_color('white')\n",
    "# Volmue: Set color of ticks \n",
    "ax.tick_params(axis='x', colors='white')\n",
    "ax.tick_params(axis='y', colors='white')\n",
    "# Show plot\n",
    "py.show()"
   ]
  },
  {
   "cell_type": "code",
   "execution_count": 20,
   "id": "dd2e7503",
   "metadata": {},
   "outputs": [
    {
     "name": "stderr",
     "output_type": "stream",
     "text": [
      "No artists with labels found to put in legend.  Note that artists whose label start with an underscore are ignored when legend() is called with no argument.\n"
     ]
    },
    {
     "data": {
      "image/png": "[encoded data removed]",
      "text/plain": [
       "<Figure size 432x288 with 1 Axes>"
      ]
     },
     "metadata": {
      "needs_background": "dark"
     },
     "output_type": "display_data"
    }
   ],
   "source": [
    "# Scatter plot of the values for High and Low\n",
    "values = df[['Volume']]\n",
    "date = df['Date']\n",
    "\n",
    "# Plotting surfce\n",
    "#fig, ax = py.subplots(111)\n",
    "\n",
    "fig = py.figure()\n",
    "ax = fig.add_subplot(111)\n",
    "\n",
    "# Scatter plot\n",
    "ax.scatter(date, values['Volume'], s=10, c='b', marker=\"s\")\n",
    "#ax.scatter(date, values['Low'], s=10, c='r', marker=\"o\", label='Low')\n",
    "\n",
    "# Produce a legend\n",
    "py.legend(loc='upper left')\n",
    "\n",
    "# Use a grid\n",
    "ax.grid(True)\n",
    "\n",
    "# Set Title\n",
    "ax.set_title('Scatter plot for Volume of stock sold over time', color='white')\n",
    "\n",
    "# Closing: Edit label of X-axis and Y-axis\n",
    "ax.set_xlabel('Years')\n",
    "ax.set_ylabel('Volume of Stock sold')\n",
    "\n",
    "#Opening: Edit color of x-axis and Y-axis\n",
    "ax.xaxis.label.set_color('white')\n",
    "ax.yaxis.label.set_color('white')\n",
    "\n",
    "# Opening: Set color of ticks \n",
    "ax.tick_params(axis='x', colors='white')\n",
    "ax.tick_params(axis='y', colors='white')\n",
    "\n",
    "#Show plot\n",
    "py.show()"
   ]
  },
  {
   "cell_type": "code",
   "execution_count": 21,
   "id": "2898bdd0",
   "metadata": {},
   "outputs": [
    {
     "name": "stdout",
     "output_type": "stream",
     "text": [
      "Kurtosis score for Volume of stocks sold: 17.325057895145015\n"
     ]
    }
   ],
   "source": [
    "print('Kurtosis score for Volume of stocks sold:',df['Volume'].kurtosis())"
   ]
  },
  {
   "cell_type": "markdown",
   "id": "a8175d6c",
   "metadata": {},
   "source": [
    "This is a very high value of Kurtosis, indicative of leptokutosis in the diturbution of stocks sold daily. "
   ]
  },
  {
   "cell_type": "code",
   "execution_count": 22,
   "id": "2035ce08",
   "metadata": {},
   "outputs": [
    {
     "name": "stdout",
     "output_type": "stream",
     "text": [
      "Skewness score for Volume of stocks sold: 3.3250652858452754\n"
     ]
    }
   ],
   "source": [
    "print('Skewness score for Volume of stocks sold:',df['Volume'].skew())"
   ]
  },
  {
   "cell_type": "markdown",
   "id": "5554d81b",
   "metadata": {},
   "source": [
    "A positive skewness score indicates that the tail is the right hand side of the disturbution. A socre of alpha = 3.32, indicates a highly skewed disturbution. In this case we consider the disturbution to be skewed to the right, ie it is Right skewed or Right tailed, this is a postive skew. "
   ]
  },
  {
   "cell_type": "markdown",
   "id": "2fad0964",
   "metadata": {},
   "source": [
    "### Understanding how well represented each year is."
   ]
  },
  {
   "cell_type": "code",
   "execution_count": 23,
   "id": "6666eafc",
   "metadata": {},
   "outputs": [
    {
     "data": {
      "text/html": [
       "<div>\n",
       "<style scoped>\n",
       "    .dataframe tbody tr th:only-of-type {\n",
       "        vertical-align: middle;\n",
       "    }\n",
       "\n",
       "    .dataframe tbody tr th {\n",
       "        vertical-align: top;\n",
       "    }\n",
       "\n",
       "    .dataframe thead th {\n",
       "        text-align: right;\n",
       "    }\n",
       "</style>\n",
       "<table border=\"1\" class=\"dataframe\">\n",
       "  <thead>\n",
       "    <tr style=\"text-align: right;\">\n",
       "      <th></th>\n",
       "      <th>Open</th>\n",
       "      <th>High</th>\n",
       "      <th>Low</th>\n",
       "      <th>Close</th>\n",
       "      <th>Adj Close</th>\n",
       "      <th>Volume</th>\n",
       "    </tr>\n",
       "    <tr>\n",
       "      <th>Date</th>\n",
       "      <th></th>\n",
       "      <th></th>\n",
       "      <th></th>\n",
       "      <th></th>\n",
       "      <th></th>\n",
       "      <th></th>\n",
       "    </tr>\n",
       "  </thead>\n",
       "  <tbody>\n",
       "    <tr>\n",
       "      <th>2004-12-31</th>\n",
       "      <td>94</td>\n",
       "      <td>94</td>\n",
       "      <td>94</td>\n",
       "      <td>94</td>\n",
       "      <td>94</td>\n",
       "      <td>94</td>\n",
       "    </tr>\n",
       "    <tr>\n",
       "      <th>2005-12-31</th>\n",
       "      <td>252</td>\n",
       "      <td>252</td>\n",
       "      <td>252</td>\n",
       "      <td>252</td>\n",
       "      <td>252</td>\n",
       "      <td>252</td>\n",
       "    </tr>\n",
       "    <tr>\n",
       "      <th>2006-12-31</th>\n",
       "      <td>251</td>\n",
       "      <td>251</td>\n",
       "      <td>251</td>\n",
       "      <td>251</td>\n",
       "      <td>251</td>\n",
       "      <td>251</td>\n",
       "    </tr>\n",
       "    <tr>\n",
       "      <th>2007-12-31</th>\n",
       "      <td>251</td>\n",
       "      <td>251</td>\n",
       "      <td>251</td>\n",
       "      <td>251</td>\n",
       "      <td>251</td>\n",
       "      <td>251</td>\n",
       "    </tr>\n",
       "    <tr>\n",
       "      <th>2008-12-31</th>\n",
       "      <td>253</td>\n",
       "      <td>253</td>\n",
       "      <td>253</td>\n",
       "      <td>253</td>\n",
       "      <td>253</td>\n",
       "      <td>253</td>\n",
       "    </tr>\n",
       "    <tr>\n",
       "      <th>2009-12-31</th>\n",
       "      <td>252</td>\n",
       "      <td>252</td>\n",
       "      <td>252</td>\n",
       "      <td>252</td>\n",
       "      <td>252</td>\n",
       "      <td>252</td>\n",
       "    </tr>\n",
       "    <tr>\n",
       "      <th>2010-12-31</th>\n",
       "      <td>252</td>\n",
       "      <td>252</td>\n",
       "      <td>252</td>\n",
       "      <td>252</td>\n",
       "      <td>252</td>\n",
       "      <td>252</td>\n",
       "    </tr>\n",
       "    <tr>\n",
       "      <th>2011-12-31</th>\n",
       "      <td>252</td>\n",
       "      <td>252</td>\n",
       "      <td>252</td>\n",
       "      <td>252</td>\n",
       "      <td>252</td>\n",
       "      <td>252</td>\n",
       "    </tr>\n",
       "    <tr>\n",
       "      <th>2012-12-31</th>\n",
       "      <td>250</td>\n",
       "      <td>250</td>\n",
       "      <td>250</td>\n",
       "      <td>250</td>\n",
       "      <td>250</td>\n",
       "      <td>250</td>\n",
       "    </tr>\n",
       "    <tr>\n",
       "      <th>2013-12-31</th>\n",
       "      <td>252</td>\n",
       "      <td>252</td>\n",
       "      <td>252</td>\n",
       "      <td>252</td>\n",
       "      <td>252</td>\n",
       "      <td>252</td>\n",
       "    </tr>\n",
       "    <tr>\n",
       "      <th>2014-12-31</th>\n",
       "      <td>252</td>\n",
       "      <td>252</td>\n",
       "      <td>252</td>\n",
       "      <td>252</td>\n",
       "      <td>252</td>\n",
       "      <td>252</td>\n",
       "    </tr>\n",
       "    <tr>\n",
       "      <th>2015-12-31</th>\n",
       "      <td>252</td>\n",
       "      <td>252</td>\n",
       "      <td>252</td>\n",
       "      <td>252</td>\n",
       "      <td>252</td>\n",
       "      <td>252</td>\n",
       "    </tr>\n",
       "    <tr>\n",
       "      <th>2016-12-31</th>\n",
       "      <td>252</td>\n",
       "      <td>252</td>\n",
       "      <td>252</td>\n",
       "      <td>252</td>\n",
       "      <td>252</td>\n",
       "      <td>252</td>\n",
       "    </tr>\n",
       "    <tr>\n",
       "      <th>2017-12-31</th>\n",
       "      <td>251</td>\n",
       "      <td>251</td>\n",
       "      <td>251</td>\n",
       "      <td>251</td>\n",
       "      <td>251</td>\n",
       "      <td>251</td>\n",
       "    </tr>\n",
       "    <tr>\n",
       "      <th>2018-12-31</th>\n",
       "      <td>251</td>\n",
       "      <td>251</td>\n",
       "      <td>251</td>\n",
       "      <td>251</td>\n",
       "      <td>251</td>\n",
       "      <td>251</td>\n",
       "    </tr>\n",
       "    <tr>\n",
       "      <th>2019-12-31</th>\n",
       "      <td>252</td>\n",
       "      <td>252</td>\n",
       "      <td>252</td>\n",
       "      <td>252</td>\n",
       "      <td>252</td>\n",
       "      <td>252</td>\n",
       "    </tr>\n",
       "    <tr>\n",
       "      <th>2020-12-31</th>\n",
       "      <td>253</td>\n",
       "      <td>253</td>\n",
       "      <td>253</td>\n",
       "      <td>253</td>\n",
       "      <td>253</td>\n",
       "      <td>253</td>\n",
       "    </tr>\n",
       "    <tr>\n",
       "      <th>2021-12-31</th>\n",
       "      <td>252</td>\n",
       "      <td>252</td>\n",
       "      <td>252</td>\n",
       "      <td>252</td>\n",
       "      <td>252</td>\n",
       "      <td>252</td>\n",
       "    </tr>\n",
       "    <tr>\n",
       "      <th>2022-12-31</th>\n",
       "      <td>251</td>\n",
       "      <td>251</td>\n",
       "      <td>251</td>\n",
       "      <td>251</td>\n",
       "      <td>251</td>\n",
       "      <td>251</td>\n",
       "    </tr>\n",
       "    <tr>\n",
       "      <th>2023-12-31</th>\n",
       "      <td>217</td>\n",
       "      <td>217</td>\n",
       "      <td>217</td>\n",
       "      <td>217</td>\n",
       "      <td>217</td>\n",
       "      <td>217</td>\n",
       "    </tr>\n",
       "  </tbody>\n",
       "</table>\n",
       "</div>"
      ],
      "text/plain": [
       "            Open  High  Low  Close  Adj Close  Volume\n",
       "Date                                                 \n",
       "2004-12-31    94    94   94     94         94      94\n",
       "2005-12-31   252   252  252    252        252     252\n",
       "2006-12-31   251   251  251    251        251     251\n",
       "2007-12-31   251   251  251    251        251     251\n",
       "2008-12-31   253   253  253    253        253     253\n",
       "2009-12-31   252   252  252    252        252     252\n",
       "2010-12-31   252   252  252    252        252     252\n",
       "2011-12-31   252   252  252    252        252     252\n",
       "2012-12-31   250   250  250    250        250     250\n",
       "2013-12-31   252   252  252    252        252     252\n",
       "2014-12-31   252   252  252    252        252     252\n",
       "2015-12-31   252   252  252    252        252     252\n",
       "2016-12-31   252   252  252    252        252     252\n",
       "2017-12-31   251   251  251    251        251     251\n",
       "2018-12-31   251   251  251    251        251     251\n",
       "2019-12-31   252   252  252    252        252     252\n",
       "2020-12-31   253   253  253    253        253     253\n",
       "2021-12-31   252   252  252    252        252     252\n",
       "2022-12-31   251   251  251    251        251     251\n",
       "2023-12-31   217   217  217    217        217     217"
      ]
     },
     "execution_count": 23,
     "metadata": {},
     "output_type": "execute_result"
    }
   ],
   "source": [
    "### Check the number of observations per a year \n",
    "df.set_index('Date').resample('Y').count()"
   ]
  },
  {
   "cell_type": "markdown",
   "id": "75ae9414",
   "metadata": {},
   "source": [
    "### Time series analysis "
   ]
  },
  {
   "cell_type": "markdown",
   "id": "a82518c8",
   "metadata": {},
   "source": [
    "#### The three major components of a time series are:"
   ]
  },
  {
   "cell_type": "markdown",
   "id": "83a985ca",
   "metadata": {},
   "source": [
    "##### Trend(t):\n",
    "    -Trend(t): is a long-term increase or decrease in the data which can assume a great variety of patterns ( e.g. , linear, exponential, damped, and polynomial).\n",
    "            -Real time series with an increasing trend can be found in phenomena related to the demographic development, gradual change of consumption habits, and demand for technologies in the social sectors. \n",
    "            -The decreasing trend, in turn, can be found in series concerning the mortality rates, epidemics, and unemployment. \n",
    "            -We can use regression models and the MA (moving average) method to obtain this component. We use the trend to estimate the level, i.e. , the value or the typical range of values that the variable assumes if there is no increasing or decreasing trend in the long term."
   ]
  },
  {
   "cell_type": "markdown",
   "id": "80f617ce",
   "metadata": {},
   "source": [
    "#### Seasonality(s):\n",
    "\n",
    "    -Seasonality(s) is the occurrence of cyclic patterns of variation that repeat, at relatively constant time intervals, along with the trend component. \n",
    "    -Examples of seasonal patterns are the increase in sales of air conditioners in summer and warm clothing in winter. \n",
    "    -Average percentage, percentage relation, relation between MA, and relative links\n",
    "    are some of the algorithms that allow computing the seasonality from the extraction of seasonal indexes."
   ]
  },
  {
   "cell_type": "markdown",
   "id": "7bc51634",
   "metadata": {},
   "source": [
    "#### Residue(r):\n",
    "    -Residue(r) is the short-term fluctuations that are neither systematic nor predictable. In the real world, unforeseen events cause such instabilities, such as natural disasters, terrorist attacks, and strikes. \n",
    "    -In practical terms, the residual component is what remains after the estimation of T and S components, and their removals from the time series.\n",
    "    -We can define the residue R of a period t of a series Z , in agreement with the additive and multiplicative models, as Rt = Zt −(Tt + St) and Rt = Zt/(Tt × St)."
   ]
  },
  {
   "cell_type": "markdown",
   "id": "f91ab557",
   "metadata": {},
   "source": [
    "#### Understanding the implimentation of methods: Parametric vs Non-Parametric\n",
    "\n",
    "Parametric statistics:\n",
    "\n",
    "    -Where we assume that the sample data we have comes from a population that can be adquately modeled by a probability diturbution that has a fixed number of parameters. \n",
    "    -Most well known models are parametric.\n",
    "\n",
    "Non-Parametric statistics: \n",
    "\n",
    "    -In non-parametric statistics we do not relay on the assumption of a specific underlying disturbution (i.e a normal disturbution) or any other sepcific assumptions about the population parameters (mean or variance). \n",
    "    -Non-parametric statistics a distubution may not be specified at all or a disturbution may be specified but its parameters, such as mean and variance are not assumend to have a known value or disturbution in advance. "
   ]
  },
  {
   "cell_type": "markdown",
   "id": "6d5812c7",
   "metadata": {},
   "source": [
    "### Family of models used in time series analysis.\n",
    "Parametric:\n",
    "\n",
    "    -Exponential Smoothing \n",
    "    -ARIMA\n",
    "    \n",
    "Non-Parametric:\n",
    "\n",
    "    -Global \n",
    "    -Local"
   ]
  },
  {
   "cell_type": "code",
   "execution_count": 24,
   "id": "cda8c131",
   "metadata": {},
   "outputs": [],
   "source": [
    "# Pacakges needed for time series analysis. \n",
    "\n",
    "import statsmodels.api as sm"
   ]
  },
  {
   "cell_type": "code",
   "execution_count": 25,
   "id": "4c8a0e28",
   "metadata": {},
   "outputs": [
    {
     "name": "stdout",
     "output_type": "stream",
     "text": [
      "Min open Date: 2004-08-19 00:00:00 Max Open Date: 2023-11-10 00:00:00\n"
     ]
    }
   ],
   "source": [
    "# Select columns wnated for time series analysis\n",
    "Opening = df[['Date','Open']]\n",
    "\n",
    "# Check the min and max dates of the Opening data\n",
    "print('Min open Date:',Opening['Date'].min(),'Max Open Date:',Opening['Date'].max())\n"
   ]
  },
  {
   "cell_type": "code",
   "execution_count": 26,
   "id": "c3402dec",
   "metadata": {},
   "outputs": [
    {
     "data": {
      "text/plain": [
       "Date\n",
       "2004-08-01    2.625132\n",
       "2004-09-01    2.788975\n",
       "2004-10-01    3.798026\n",
       "2004-11-01    4.437510\n",
       "2004-12-01    4.517986\n",
       "2005-01-01    4.817979\n",
       "2005-02-01    4.876210\n",
       "2005-03-01    4.525447\n",
       "2005-04-01    4.954441\n",
       "2005-05-01    5.917914\n",
       "Freq: MS, Name: Open, dtype: float64"
      ]
     },
     "execution_count": 26,
     "metadata": {},
     "output_type": "execute_result"
    }
   ],
   "source": [
    "# Set the date as the index of data frame\n",
    "Opening = Opening.set_index('Date')\n",
    "\n",
    "# Resample the data so that we get mean value for each month\n",
    "y = Opening['Open'].resample('MS').mean()\n",
    "\n",
    "# Show the y\n",
    "y.head(10)"
   ]
  },
  {
   "cell_type": "code",
   "execution_count": 27,
   "id": "d6dc6815",
   "metadata": {},
   "outputs": [
    {
     "data": {
      "text/plain": [
       "Date\n",
       "2020-01-01     71.633977\n",
       "2020-02-01     73.139289\n",
       "2020-03-01     59.166546\n",
       "2020-04-01     61.748131\n",
       "2020-05-01     68.860594\n",
       "2020-06-01     71.503227\n",
       "2020-07-01     75.449638\n",
       "2020-08-01     76.974309\n",
       "2020-09-01     76.334772\n",
       "2020-10-01     77.284864\n",
       "2020-11-01     87.267860\n",
       "2020-12-01     88.586056\n",
       "2021-01-01     90.113500\n",
       "2021-02-01    103.005974\n",
       "2021-03-01    103.056392\n",
       "2021-04-01    114.182751\n",
       "2021-05-01    117.590727\n",
       "2021-06-01    124.912230\n",
       "2021-07-01    132.095374\n",
       "2021-08-01    138.820068\n",
       "2021-09-01    142.385136\n",
       "2021-10-01    139.971263\n",
       "2021-11-01    147.876745\n",
       "2021-12-01    145.605254\n",
       "2022-01-01    136.373150\n",
       "2022-02-01    137.323105\n",
       "2022-03-01    135.333098\n",
       "2022-04-01    129.661474\n",
       "2022-05-01    113.169976\n",
       "2022-06-01    112.703512\n",
       "2022-07-01    112.682900\n",
       "2022-08-01    117.230435\n",
       "2022-09-01    104.319286\n",
       "2022-10-01     99.154047\n",
       "2022-11-01     94.127380\n",
       "2022-12-01     93.102381\n",
       "2023-01-01     93.452400\n",
       "2023-02-01     96.679420\n",
       "2023-03-01     97.935652\n",
       "2023-04-01    105.994474\n",
       "2023-05-01    116.268637\n",
       "2023-06-01    123.012904\n",
       "2023-07-01    123.620050\n",
       "2023-08-01    131.006174\n",
       "2023-09-01    135.231451\n",
       "2023-10-01    135.239318\n",
       "2023-11-01    130.429998\n",
       "Freq: MS, Name: Open, dtype: float64"
      ]
     },
     "execution_count": 27,
     "metadata": {},
     "output_type": "execute_result"
    }
   ],
   "source": [
    "# Check the opening values from the year of 2020 to the end of the set.\n",
    "y['2020':]"
   ]
  },
  {
   "cell_type": "code",
   "execution_count": 28,
   "id": "54d4dc0f",
   "metadata": {},
   "outputs": [
    {
     "data": {
      "image/png": "[encoded data removed]",
      "text/plain": [
       "<Figure size 1080x432 with 1 Axes>"
      ]
     },
     "metadata": {
      "needs_background": "dark"
     },
     "output_type": "display_data"
    }
   ],
   "source": [
    "# Plot the opeing values \n",
    "open_plot = y.plot(figsize=(15,6))\n",
    "\n",
    "# Below is to set labels, ticks and the color of labels and ticks.\n",
    "# Set Title\n",
    "open_plot.set_title('Opening Values', color='white')\n",
    "\n",
    "# Closing: Edit label of X-axis and Y-axis\n",
    "open_plot.set_xlabel('Year')\n",
    "open_plot.set_ylabel('Opening value of stock')\n",
    "\n",
    "#Opening: Edit color of x-axis and Y-axis\n",
    "open_plot.xaxis.label.set_color('white')\n",
    "open_plot.yaxis.label.set_color('white')\n",
    "\n",
    "# Opening: Set color of ticks \n",
    "open_plot.tick_params(axis='x', colors='white')\n",
    "open_plot.tick_params(axis='y', colors='white')\n",
    "\n",
    "#Show plot\n",
    "py.show()"
   ]
  },
  {
   "cell_type": "code",
   "execution_count": 29,
   "id": "c109c325",
   "metadata": {},
   "outputs": [
    {
     "data": {
      "image/png": "[encoded data removed]",
      "text/plain": [
       "<Figure size 1440x720 with 4 Axes>"
      ]
     },
     "metadata": {
      "needs_background": "dark"
     },
     "output_type": "display_data"
    }
   ],
   "source": [
    "# We can also visualize our data with another method which allows us to see the observed data,\n",
    "# the trend, the seasonality and the residuals  \n",
    "\n",
    "# Required pacakage\n",
    "from pylab import rcParams\n",
    "rcParams['figure.figsize'] = 18, 8\n",
    "\n",
    "# decompose the timeline into different compnents\n",
    "decomposition = sm.tsa.seasonal_decompose(y, model='additive')\n",
    "\n",
    "# Create a subplot\n",
    "fig, (ax1, ax2, ax3, ax4) = py.subplots(4, 1, figsize=(20, 10), sharex=True)\n",
    "\n",
    "# Plot the original time series\n",
    "ax1.plot(y, label='Observed Time Series')\n",
    "ax1.set_ylabel('Observed')\n",
    "\n",
    "# Color of labels\n",
    "ax1.xaxis.label.set_color('white')\n",
    "ax1.yaxis.label.set_color('white')\n",
    "# Color of tiacks\n",
    "ax1.tick_params(axis='x', colors='white')\n",
    "ax1.tick_params(axis='y', colors='white')\n",
    "\n",
    "# Plot the trend component\n",
    "ax2.plot(decomposition.trend, label='Trend')\n",
    "ax2.set_ylabel('Trend')\n",
    "\n",
    "# Color of labels\n",
    "ax2.xaxis.label.set_color('white')\n",
    "ax2.yaxis.label.set_color('white')\n",
    "# Color of tiacks\n",
    "ax2.tick_params(axis='x', colors='white')\n",
    "ax2.tick_params(axis='y', colors='white')\n",
    "\n",
    "# Plot the seasonal component\n",
    "ax3.plot(decomposition.seasonal, label='Seasonal')\n",
    "ax3.set_ylabel('Seasonal')\n",
    "\n",
    "# Color of labels\n",
    "ax3.xaxis.label.set_color('white')\n",
    "ax3.yaxis.label.set_color('white')\n",
    "# Color of tiacks\n",
    "ax3.tick_params(axis='x', colors='white')\n",
    "ax3.tick_params(axis='y', colors='white')\n",
    "\n",
    "# Plot the residual component\n",
    "ax4.plot(decomposition.resid, label='Residual')\n",
    "ax4.set_ylabel('Residual')\n",
    "\n",
    "# Color of labels\n",
    "ax4.xaxis.label.set_color('white')\n",
    "ax4.yaxis.label.set_color('white')\n",
    "# Color of tiacks\n",
    "ax4.tick_params(axis='x', colors='white')\n",
    "ax4.tick_params(axis='y', colors='white')\n",
    "\n",
    "# Set common xlabel\n",
    "py.xlabel('Date')\n",
    "# Show plot\n",
    "py.show()\n"
   ]
  },
  {
   "cell_type": "code",
   "execution_count": null,
   "id": "04f95d3b",
   "metadata": {},
   "outputs": [],
   "source": []
  },
  {
   "cell_type": "code",
   "execution_count": null,
   "id": "8bfb522f",
   "metadata": {},
   "outputs": [],
   "source": []
  },
  {
   "cell_type": "code",
   "execution_count": null,
   "id": "5845ee92",
   "metadata": {},
   "outputs": [],
   "source": []
  },
  {
   "cell_type": "code",
   "execution_count": null,
   "id": "a1f01ed2",
   "metadata": {},
   "outputs": [],
   "source": []
  }
 ],
 "metadata": {
  "kernelspec": {
   "display_name": "Python 3",
   "language": "python",
   "name": "python3"
  },
  "language_info": {
   "codemirror_mode": {
    "name": "ipython",
    "version": 3
   },
   "file_extension": ".py",
   "mimetype": "text/x-python",
   "name": "python",
   "nbconvert_exporter": "python",
   "pygments_lexer": "ipython3",
   "version": "3.7.16"
  }
 },
 "nbformat": 4,
 "nbformat_minor": 5
}
